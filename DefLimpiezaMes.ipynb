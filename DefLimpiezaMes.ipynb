{
 "cells": [
  {
   "cell_type": "code",
   "execution_count": 1,
   "id": "f71f5f3d",
   "metadata": {},
   "outputs": [],
   "source": [
    "# Import de librerias\n",
    "from IPython.core.interactiveshell import InteractiveShell\n",
    "InteractiveShell.ast_node_interactivity = \"all\"\n",
    "\n",
    "import pandas as pd\n",
    "import os\n",
    "from datetime import datetime\n",
    "import seaborn as sns\n",
    "import matplotlib.pyplot as plt\n",
    "import numpy as np"
   ]
  },
  {
   "cell_type": "code",
   "execution_count": 2,
   "id": "e53db797",
   "metadata": {},
   "outputs": [],
   "source": [
    "# Lectura de archivos\n",
    "df_monthly = pd.read_csv('./data/housing_in_london_monthly_variables_cleaned.csv')\n",
    "df_yearly = pd.read_csv('./data/housing_in_london_yearly_variables_cleaned.csv')"
   ]
  },
  {
   "cell_type": "code",
   "execution_count": 3,
   "id": "c3ba9838",
   "metadata": {},
   "outputs": [],
   "source": [
    "#Funciones\n",
    "def eliminar_registro_binario(dataframe, column_name, number):\n",
    "    \"\"\"Elimina filas de un DataFrame basado en un número especificado\"\"\"\n",
    "    try:\n",
    "        dataframe = dataframe.loc[dataframe[column_name] != number]\n",
    "        return dataframe\n",
    "    except KeyError:\n",
    "        print(f'Error: no se encontró la columna \"{column_name}\".')\n",
    "\n",
    "\n",
    "def remove_dates_before(df, date_col_name, min_date):\n",
    "    df[date_col_name] = pd.to_datetime(df[date_col_name])  # convierte a tipo datetime\n",
    "    mask = df[date_col_name] >= min_date  # crea una máscara booleana\n",
    "    df_filtered = df[mask]  # aplica la máscara al DataFrame\n",
    "    return df_filtered\n"
   ]
  },
  {
   "cell_type": "markdown",
   "id": "be69635c",
   "metadata": {},
   "source": [
    "-------------"
   ]
  },
  {
   "cell_type": "markdown",
   "id": "70542a41",
   "metadata": {},
   "source": [
    "# dfMonthly\n",
    "\n",
    "Primero observamos el dataframe. Revisando las variables de nuestra unidad de observacion. En este caso, nuestra unidad de observacion es: 'Un area de la ciudad a traves del tiempo'"
   ]
  },
  {
   "cell_type": "code",
   "execution_count": 4,
   "id": "3ca324d0",
   "metadata": {},
   "outputs": [
    {
     "data": {
      "text/html": [
       "<div>\n",
       "<style scoped>\n",
       "    .dataframe tbody tr th:only-of-type {\n",
       "        vertical-align: middle;\n",
       "    }\n",
       "\n",
       "    .dataframe tbody tr th {\n",
       "        vertical-align: top;\n",
       "    }\n",
       "\n",
       "    .dataframe thead th {\n",
       "        text-align: right;\n",
       "    }\n",
       "</style>\n",
       "<table border=\"1\" class=\"dataframe\">\n",
       "  <thead>\n",
       "    <tr style=\"text-align: right;\">\n",
       "      <th></th>\n",
       "      <th>date</th>\n",
       "      <th>area</th>\n",
       "      <th>average_price</th>\n",
       "      <th>code</th>\n",
       "      <th>houses_sold</th>\n",
       "      <th>no_of_crimes</th>\n",
       "      <th>borough_flag</th>\n",
       "    </tr>\n",
       "  </thead>\n",
       "  <tbody>\n",
       "    <tr>\n",
       "      <th>0</th>\n",
       "      <td>2012-01-01</td>\n",
       "      <td>city of london</td>\n",
       "      <td>525723</td>\n",
       "      <td>E09000001</td>\n",
       "      <td>11.0</td>\n",
       "      <td>NaN</td>\n",
       "      <td>1</td>\n",
       "    </tr>\n",
       "    <tr>\n",
       "      <th>1</th>\n",
       "      <td>2012-02-01</td>\n",
       "      <td>city of london</td>\n",
       "      <td>510537</td>\n",
       "      <td>E09000001</td>\n",
       "      <td>17.0</td>\n",
       "      <td>NaN</td>\n",
       "      <td>1</td>\n",
       "    </tr>\n",
       "    <tr>\n",
       "      <th>2</th>\n",
       "      <td>2012-03-01</td>\n",
       "      <td>city of london</td>\n",
       "      <td>527408</td>\n",
       "      <td>E09000001</td>\n",
       "      <td>9.0</td>\n",
       "      <td>NaN</td>\n",
       "      <td>1</td>\n",
       "    </tr>\n",
       "    <tr>\n",
       "      <th>3</th>\n",
       "      <td>2012-04-01</td>\n",
       "      <td>city of london</td>\n",
       "      <td>524290</td>\n",
       "      <td>E09000001</td>\n",
       "      <td>12.0</td>\n",
       "      <td>NaN</td>\n",
       "      <td>1</td>\n",
       "    </tr>\n",
       "    <tr>\n",
       "      <th>4</th>\n",
       "      <td>2012-05-01</td>\n",
       "      <td>city of london</td>\n",
       "      <td>573532</td>\n",
       "      <td>E09000001</td>\n",
       "      <td>12.0</td>\n",
       "      <td>NaN</td>\n",
       "      <td>1</td>\n",
       "    </tr>\n",
       "  </tbody>\n",
       "</table>\n",
       "</div>"
      ],
      "text/plain": [
       "         date            area  average_price       code  houses_sold  \\\n",
       "0  2012-01-01  city of london         525723  E09000001         11.0   \n",
       "1  2012-02-01  city of london         510537  E09000001         17.0   \n",
       "2  2012-03-01  city of london         527408  E09000001          9.0   \n",
       "3  2012-04-01  city of london         524290  E09000001         12.0   \n",
       "4  2012-05-01  city of london         573532  E09000001         12.0   \n",
       "\n",
       "   no_of_crimes  borough_flag  \n",
       "0           NaN             1  \n",
       "1           NaN             1  \n",
       "2           NaN             1  \n",
       "3           NaN             1  \n",
       "4           NaN             1  "
      ]
     },
     "execution_count": 4,
     "metadata": {},
     "output_type": "execute_result"
    },
    {
     "data": {
      "text/plain": [
       "'El tamaño del Frame es de: (4320, 7).'"
      ]
     },
     "execution_count": 4,
     "metadata": {},
     "output_type": "execute_result"
    }
   ],
   "source": [
    "df_monthly.head(5)\n",
    "f'El tamaño del Frame es de: {df_monthly.shape}.'"
   ]
  },
  {
   "cell_type": "code",
   "execution_count": 5,
   "id": "ec0e357f",
   "metadata": {},
   "outputs": [
    {
     "data": {
      "text/plain": [
       "'Y las variables son de tipo: '"
      ]
     },
     "execution_count": 5,
     "metadata": {},
     "output_type": "execute_result"
    },
    {
     "data": {
      "text/html": [
       "<div>\n",
       "<style scoped>\n",
       "    .dataframe tbody tr th:only-of-type {\n",
       "        vertical-align: middle;\n",
       "    }\n",
       "\n",
       "    .dataframe tbody tr th {\n",
       "        vertical-align: top;\n",
       "    }\n",
       "\n",
       "    .dataframe thead th {\n",
       "        text-align: right;\n",
       "    }\n",
       "</style>\n",
       "<table border=\"1\" class=\"dataframe\">\n",
       "  <thead>\n",
       "    <tr style=\"text-align: right;\">\n",
       "      <th></th>\n",
       "      <th>0</th>\n",
       "    </tr>\n",
       "  </thead>\n",
       "  <tbody>\n",
       "    <tr>\n",
       "      <th>date</th>\n",
       "      <td>object</td>\n",
       "    </tr>\n",
       "    <tr>\n",
       "      <th>area</th>\n",
       "      <td>object</td>\n",
       "    </tr>\n",
       "    <tr>\n",
       "      <th>average_price</th>\n",
       "      <td>int64</td>\n",
       "    </tr>\n",
       "    <tr>\n",
       "      <th>code</th>\n",
       "      <td>object</td>\n",
       "    </tr>\n",
       "    <tr>\n",
       "      <th>houses_sold</th>\n",
       "      <td>float64</td>\n",
       "    </tr>\n",
       "    <tr>\n",
       "      <th>no_of_crimes</th>\n",
       "      <td>float64</td>\n",
       "    </tr>\n",
       "    <tr>\n",
       "      <th>borough_flag</th>\n",
       "      <td>int64</td>\n",
       "    </tr>\n",
       "  </tbody>\n",
       "</table>\n",
       "</div>"
      ],
      "text/plain": [
       "                     0\n",
       "date            object\n",
       "area            object\n",
       "average_price    int64\n",
       "code            object\n",
       "houses_sold    float64\n",
       "no_of_crimes   float64\n",
       "borough_flag     int64"
      ]
     },
     "execution_count": 5,
     "metadata": {},
     "output_type": "execute_result"
    }
   ],
   "source": [
    "f'Y las variables son de tipo: '\n",
    "pd.DataFrame(df_monthly.dtypes.head(len(df_monthly)))"
   ]
  },
  {
   "cell_type": "code",
   "execution_count": 6,
   "id": "b4912b7e",
   "metadata": {},
   "outputs": [],
   "source": [
    "df_monthly[\"date\"] = pd.to_datetime(df_monthly.date)\n",
    "df_monthly[\"area\"] = df_monthly.area.astype(\"category\")\n",
    "df_monthly[\"code\"] = df_monthly.code.astype(\"category\")"
   ]
  },
  {
   "cell_type": "code",
   "execution_count": 7,
   "id": "38da0319",
   "metadata": {},
   "outputs": [
    {
     "name": "stdout",
     "output_type": "stream",
     "text": [
      "<class 'pandas.core.frame.DataFrame'>\n",
      "RangeIndex: 4320 entries, 0 to 4319\n",
      "Data columns (total 7 columns):\n",
      " #   Column         Non-Null Count  Dtype         \n",
      "---  ------         --------------  -----         \n",
      " 0   date           4320 non-null   datetime64[ns]\n",
      " 1   area           4320 non-null   category      \n",
      " 2   average_price  4320 non-null   int64         \n",
      " 3   code           4320 non-null   category      \n",
      " 4   houses_sold    4275 non-null   float64       \n",
      " 5   no_of_crimes   3072 non-null   float64       \n",
      " 6   borough_flag   4320 non-null   int64         \n",
      "dtypes: category(2), datetime64[ns](1), float64(2), int64(2)\n",
      "memory usage: 180.1 KB\n"
     ]
    }
   ],
   "source": [
    "df_monthly.info()"
   ]
  },
  {
   "attachments": {},
   "cell_type": "markdown",
   "id": "1cf8372c",
   "metadata": {},
   "source": [
    "## Llenar los valores nulos con ceros"
   ]
  },
  {
   "cell_type": "code",
   "execution_count": 8,
   "id": "916859a0",
   "metadata": {},
   "outputs": [],
   "source": [
    "def fill_with_zeros(df, col):\n",
    "    df[col] = df[col].fillna(0)\n",
    "\n",
    "#fill_with_zeros(df_monthly, 'houses_sold')\n",
    "fill_with_zeros(df_monthly, 'no_of_crimes')"
   ]
  },
  {
   "cell_type": "code",
   "execution_count": 9,
   "id": "ac87beb2",
   "metadata": {},
   "outputs": [
    {
     "name": "stdout",
     "output_type": "stream",
     "text": [
      "<class 'pandas.core.frame.DataFrame'>\n",
      "RangeIndex: 4320 entries, 0 to 4319\n",
      "Data columns (total 7 columns):\n",
      " #   Column         Non-Null Count  Dtype         \n",
      "---  ------         --------------  -----         \n",
      " 0   date           4320 non-null   datetime64[ns]\n",
      " 1   area           4320 non-null   category      \n",
      " 2   average_price  4320 non-null   int64         \n",
      " 3   code           4320 non-null   category      \n",
      " 4   houses_sold    4275 non-null   float64       \n",
      " 5   no_of_crimes   4320 non-null   float64       \n",
      " 6   borough_flag   4320 non-null   int64         \n",
      "dtypes: category(2), datetime64[ns](1), float64(2), int64(2)\n",
      "memory usage: 180.1 KB\n"
     ]
    }
   ],
   "source": [
    "df_monthly.info()"
   ]
  },
  {
   "cell_type": "code",
   "execution_count": 10,
   "id": "1746de8c",
   "metadata": {},
   "outputs": [
    {
     "name": "stdout",
     "output_type": "stream",
     "text": [
      "Variables nominales: ['area', 'code', 'borough_flag']\n",
      "Variables de intervalo: ['date']\n",
      "Variables de razón: ['average_price', 'houses_sold', 'no_of_crimes']\n",
      "\n"
     ]
    }
   ],
   "source": [
    "# Columnas por tipo de datos\n",
    "nominal = [\"area\", \"code\", \"borough_flag\"]\n",
    "ordinal = []\n",
    "intervalo = [\"date\"]\n",
    "razon = [\"average_price\", \"houses_sold\", \"no_of_crimes\"]\n",
    "\n",
    "print(f'Variables nominales: {nominal}\\n'\n",
    "      f'Variables de intervalo: {intervalo}\\n'\n",
    "      f'Variables de razón: {razon}\\n')"
   ]
  },
  {
   "attachments": {},
   "cell_type": "markdown",
   "id": "0aca6df2",
   "metadata": {},
   "source": [
    "AGREGAR EN UNA LISTA POR CADA TIPO DE DATO PARA DESPUES AGREGAR CADA COLUMNA EN SU RESPECTIVA LISTA"
   ]
  },
  {
   "attachments": {},
   "cell_type": "markdown",
   "id": "8667da69",
   "metadata": {},
   "source": [
    "#### Vamos una por una\n"
   ]
  },
  {
   "attachments": {},
   "cell_type": "markdown",
   "id": "95600f9f",
   "metadata": {},
   "source": [
    "### Borough Flag\n",
    "\n",
    "Revisando los metadatos... Nos damos cuenta que 'Borough Flag' determina si el area observada es un distrito de London o no. Es decir,<br>\n",
    "\n",
    "<br>\n",
    "0 == Esto _No_ es un distrito de London<br>\n",
    "1 == Esto _Si_ es un distrito de London\n",
    "\n",
    "Los 0 conforman otra area geografica y sirven para hacer la comparacion demografica entre poblados y zonas, con la capital.\n",
    "\n",
    "A nosotros en particular, lo unico que nos interesa y nos dara el analisis que buscamos es, si estudiamos UNICAMENTE los distritos pertenecientes a London. Pues nuestro estudio unicamente se enfoca en esa area geografica y su demografia.\n",
    "\n",
    "Por lo tanto, todos los datos que tenga 0 en su 'borough_flag'; \n",
    "los quitaremos.\n",
    "\n",
    "AHORA LA UNIDAD DE OBSERVACION ES SOLO LONDRES, HAY QUE ESPECIFICAR ESTO\n"
   ]
  },
  {
   "cell_type": "markdown",
   "id": "2fe81908",
   "metadata": {},
   "source": [
    "### Code"
   ]
  },
  {
   "attachments": {},
   "cell_type": "markdown",
   "id": "5ca19de5",
   "metadata": {},
   "source": [
    "Code parece ser el identificador del area observada. Leyendo los metadatos, efectivamente asi es. Al ser un objeto de tipo object y no servirnos para nada pues el nombre del area es sufieciente para identificar el area en si.  Lo vamos a borrar.\n",
    "\n",
    "ELIMINAR TEXTO, HAY QUE IR AL GRANO.. USAR LENGUAJE MAS CIENTIFICO  \n",
    "TANTO COMO CODIGO COMO NOMBRE TIENEN UNA RELACION 1:1, ESA PODRIA SER LA RAZON DE ELIMINAR ESTA COLUMNA, PERO...  \n",
    "NO HAY QUE BORRAR CODIGO, NOS VA A SERVIR... ES COMO TENER UN CODIGO DE EMPLEADO Y SU NOMBRE, NUNCA SABES EN QUE REPORTE PUEDE SER DE AYUDA ESTA INFORMACION."
   ]
  },
  {
   "cell_type": "code",
   "execution_count": 11,
   "id": "357f313c",
   "metadata": {},
   "outputs": [
    {
     "ename": "NameError",
     "evalue": "name 'dfMonthly' is not defined",
     "output_type": "error",
     "traceback": [
      "\u001b[0;31m---------------------------------------------------------------------------\u001b[0m",
      "\u001b[0;31mNameError\u001b[0m                                 Traceback (most recent call last)",
      "\u001b[0;32m/var/folders/t3/92qvcl6j0g776mb5xn20c_dh0000gn/T/ipykernel_73921/4239695722.py\u001b[0m in \u001b[0;36m<module>\u001b[0;34m\u001b[0m\n\u001b[1;32m      1\u001b[0m \u001b[0;31m#dfMonthly=dfMonthly.drop('code',axis=1)\u001b[0m\u001b[0;34m\u001b[0m\u001b[0;34m\u001b[0m\u001b[0m\n\u001b[0;32m----> 2\u001b[0;31m \u001b[0mdfMonthly\u001b[0m\u001b[0;34m\u001b[0m\u001b[0;34m\u001b[0m\u001b[0m\n\u001b[0m",
      "\u001b[0;31mNameError\u001b[0m: name 'dfMonthly' is not defined"
     ]
    }
   ],
   "source": [
    "#dfMonthly=dfMonthly.drop('code',axis=1)\n",
    "dfMonthly"
   ]
  },
  {
   "cell_type": "markdown",
   "id": "aa335e35",
   "metadata": {},
   "source": [
    "### Date"
   ]
  },
  {
   "cell_type": "markdown",
   "id": "c6e258b6",
   "metadata": {},
   "source": [
    "Date podemos ver que es tipo object, como en un futuro es importante que este en orden por fecha. Es importante que cambien ese string a un datetime.date"
   ]
  },
  {
   "cell_type": "code",
   "execution_count": null,
   "id": "0b13f4b4",
   "metadata": {},
   "outputs": [],
   "source": [
    "#dfMonthly['date'] = pd.to_datetime(dfMonthly['date']).dt.date\n",
    "dfMonthly"
   ]
  },
  {
   "cell_type": "markdown",
   "id": "aa30b005",
   "metadata": {},
   "source": [
    "## {{Deberiamos quitar los datos anteriores de 2000?}}\n",
    "\n",
    "Por ahora ya quedo."
   ]
  },
  {
   "cell_type": "markdown",
   "id": "5d5e96b5",
   "metadata": {},
   "source": [
    "### Los otros\n",
    "\n",
    "Hay algunas variables que mencionaremos todas juntas en este apartado pues se pueden explicar brevemente:\n",
    "\n",
    "* average_price: Como su nombre lo indica mide el precio promedio de una casa en ese distrito. En el tiempo registrado.\n",
    "* houses_sold: Marca el total de casas que se vendio en el distrito en ese momento.(mes)\n",
    "* no_of_crimes: El total de crimenes que hubo ese mes."
   ]
  },
  {
   "cell_type": "code",
   "execution_count": null,
   "id": "58e38bbf",
   "metadata": {},
   "outputs": [
    {
     "data": {
      "text/html": [
       "<div>\n",
       "<style scoped>\n",
       "    .dataframe tbody tr th:only-of-type {\n",
       "        vertical-align: middle;\n",
       "    }\n",
       "\n",
       "    .dataframe tbody tr th {\n",
       "        vertical-align: top;\n",
       "    }\n",
       "\n",
       "    .dataframe thead th {\n",
       "        text-align: right;\n",
       "    }\n",
       "</style>\n",
       "<table border=\"1\" class=\"dataframe\">\n",
       "  <thead>\n",
       "    <tr style=\"text-align: right;\">\n",
       "      <th></th>\n",
       "      <th>0</th>\n",
       "    </tr>\n",
       "  </thead>\n",
       "  <tbody>\n",
       "    <tr>\n",
       "      <th>date</th>\n",
       "      <td>datetime64[ns]</td>\n",
       "    </tr>\n",
       "    <tr>\n",
       "      <th>area</th>\n",
       "      <td>category</td>\n",
       "    </tr>\n",
       "    <tr>\n",
       "      <th>average_price</th>\n",
       "      <td>int64</td>\n",
       "    </tr>\n",
       "    <tr>\n",
       "      <th>code</th>\n",
       "      <td>category</td>\n",
       "    </tr>\n",
       "    <tr>\n",
       "      <th>houses_sold</th>\n",
       "      <td>float64</td>\n",
       "    </tr>\n",
       "    <tr>\n",
       "      <th>no_of_crimes</th>\n",
       "      <td>float64</td>\n",
       "    </tr>\n",
       "    <tr>\n",
       "      <th>borough_flag</th>\n",
       "      <td>int64</td>\n",
       "    </tr>\n",
       "  </tbody>\n",
       "</table>\n",
       "</div>"
      ],
      "text/plain": [
       "                            0\n",
       "date           datetime64[ns]\n",
       "area                 category\n",
       "average_price           int64\n",
       "code                 category\n",
       "houses_sold           float64\n",
       "no_of_crimes          float64\n",
       "borough_flag            int64"
      ]
     },
     "execution_count": 15,
     "metadata": {},
     "output_type": "execute_result"
    }
   ],
   "source": [
    "pd.DataFrame(df_monthly.dtypes.head(len(df_monthly)))\n"
   ]
  },
  {
   "cell_type": "markdown",
   "id": "2cb99144",
   "metadata": {},
   "source": [
    "#### Eureka!!! Ya lo tenemos\n",
    "Ahora lo guardamos."
   ]
  },
  {
   "cell_type": "code",
   "execution_count": null,
   "id": "db887c09",
   "metadata": {},
   "outputs": [],
   "source": [
    "#dfMonthly.to_csv('cleaned_monthly.csv', index=False)"
   ]
  },
  {
   "cell_type": "markdown",
   "id": "9f8c1f00",
   "metadata": {},
   "source": [
    "# Adicional.\n",
    "\n",
    "La maestra nos habia dicho que podiamos juntar todos los datos por año, vamos a intentarlo. Por si lo necesitamos.\n",
    "\n",
    "Vamos a juntar todas las fechas, sacaremos el promedio del precio las casas y agregaremos a la variable de houses_sold y no_of_crimes todo el acumulado de los meses. "
   ]
  },
  {
   "cell_type": "code",
   "execution_count": null,
   "id": "f46a8ddf",
   "metadata": {},
   "outputs": [],
   "source": [
    "# Convertir la columna de fecha a formato de fecha\n",
    "#dfMonthly['date'] = pd.to_datetime(dfMonthly['date'])\n",
    "\n",
    "# Agrupar los datos por año y por área\n",
    "df_yearly = dfMonthly.groupby([dfMonthly['date'].dt.year, 'area']).mean()\n",
    "\n",
    "# Mostrar los resultados\n",
    "print(df_yearly)\n"
   ]
  },
  {
   "cell_type": "code",
   "execution_count": null,
   "id": "8a8cdc6f",
   "metadata": {},
   "outputs": [],
   "source": [
    "#Definir las funciones de agregación\n",
    "aggregations = {'average_price': 'mean', 'houses_sold': 'sum', 'no_of_crimes': 'sum'}\n",
    "\n",
    "# Agrupar los datos por año y por área y aplicar las funciones de agregación\n",
    "df_yearly = df_yearly.groupby([df_yearly.index.year, 'area']).agg(aggregations)\n",
    "# Mostrar los resultados\n",
    "print(df_yearly)\n",
    "\n"
   ]
  },
  {
   "cell_type": "code",
   "execution_count": null,
   "id": "aac23d47",
   "metadata": {},
   "outputs": [],
   "source": [
    "dfMonthly"
   ]
  },
  {
   "cell_type": "code",
   "execution_count": null,
   "id": "8581bcee",
   "metadata": {},
   "outputs": [],
   "source": [
    "pd.options.display.float_format = '{:.2f}'.format\n",
    "\n",
    "# Convertir la columna 'date' a tipo datetime\n",
    "#dfMonthly['date'] = pd.to_datetime(dfMonthly['date'], format='%Y-%m-%d')\n",
    "\n",
    "# Crear una columna 'year' con el año de cada fecha\n",
    "#dfMonthly['year'] = dfMonthly['date'].dt.year\n",
    "\n",
    "# Agrupar los datos por 'year' y 'area'\n",
    "grouped = dfMonthly.groupby(['year', 'area'])\n",
    "\n",
    "# Calcular el promedio de 'average_price', la suma de 'houses_sold', y la suma de 'no_of_crimes'\n",
    "result = grouped.agg({'average_price': 'mean', 'houses_sold': 'sum', 'no_of_crimes': 'sum'})\n",
    "\n",
    "# Restablecer el índice\n",
    "dfYearly = result.reset_index()\n",
    "dfYearly"
   ]
  },
  {
   "cell_type": "code",
   "execution_count": null,
   "id": "3696908a",
   "metadata": {},
   "outputs": [],
   "source": [
    "dfYearly.iloc[0]"
   ]
  },
  {
   "cell_type": "markdown",
   "id": "ff24774f",
   "metadata": {},
   "source": [
    "Listo, solo fallo una cosita, para que los nulos al hacer el agregado nos lo cambio a 0, vamos a volver a hacerlo nulo."
   ]
  },
  {
   "cell_type": "code",
   "execution_count": null,
   "id": "90949327",
   "metadata": {},
   "outputs": [],
   "source": [
    "dfYearly['houses_sold'] = dfYearly['houses_sold'].replace(0, np.nan)\n",
    "dfYearly['no_of_crimes'] = dfYearly['no_of_crimes'].replace(0, np.nan)\n",
    "dfYearly"
   ]
  },
  {
   "cell_type": "markdown",
   "id": "c32e5a7a",
   "metadata": {},
   "source": [
    "# Listo! Ya quedo."
   ]
  },
  {
   "attachments": {},
   "cell_type": "markdown",
   "metadata": {},
   "source": [
    "# Est. Descriptiva\n",
    "\n",
    "Medidas de Tendencia Central:\n",
    "- moda\n",
    "- media\n",
    "- mediana\n",
    "\n",
    "\n",
    "medidas de dispersion:\n",
    "- rango\n",
    "- desv. estandard\n",
    "- varianza\n",
    "- IQR (Intercuatiles)\n",
    "\n",
    "\n",
    "- nom: moda\n",
    "- ord: moda\n",
    "- inter: mediana, media\n",
    "- razon: mediana, media\n",
    "\n"
   ]
  },
  {
   "cell_type": "code",
   "execution_count": null,
   "id": "388b73df",
   "metadata": {},
   "outputs": [
    {
     "data": {
      "text/html": [
       "<div>\n",
       "<style scoped>\n",
       "    .dataframe tbody tr th:only-of-type {\n",
       "        vertical-align: middle;\n",
       "    }\n",
       "\n",
       "    .dataframe tbody tr th {\n",
       "        vertical-align: top;\n",
       "    }\n",
       "\n",
       "    .dataframe thead th {\n",
       "        text-align: right;\n",
       "    }\n",
       "</style>\n",
       "<table border=\"1\" class=\"dataframe\">\n",
       "  <thead>\n",
       "    <tr style=\"text-align: right;\">\n",
       "      <th></th>\n",
       "      <th>average_price</th>\n",
       "      <th>houses_sold</th>\n",
       "      <th>no_of_crimes</th>\n",
       "      <th>borough_flag</th>\n",
       "    </tr>\n",
       "  </thead>\n",
       "  <tbody>\n",
       "    <tr>\n",
       "      <th>count</th>\n",
       "      <td>4.320000e+03</td>\n",
       "      <td>4320.000000</td>\n",
       "      <td>4320.000000</td>\n",
       "      <td>4320.000000</td>\n",
       "    </tr>\n",
       "    <tr>\n",
       "      <th>mean</th>\n",
       "      <td>4.132155e+05</td>\n",
       "      <td>3384.473843</td>\n",
       "      <td>1451.323148</td>\n",
       "      <td>0.733333</td>\n",
       "    </tr>\n",
       "    <tr>\n",
       "      <th>std</th>\n",
       "      <td>2.192579e+05</td>\n",
       "      <td>10463.384803</td>\n",
       "      <td>1150.103480</td>\n",
       "      <td>0.442268</td>\n",
       "    </tr>\n",
       "    <tr>\n",
       "      <th>min</th>\n",
       "      <td>1.120080e+05</td>\n",
       "      <td>0.000000</td>\n",
       "      <td>0.000000</td>\n",
       "      <td>0.000000</td>\n",
       "    </tr>\n",
       "    <tr>\n",
       "      <th>25%</th>\n",
       "      <td>2.655842e+05</td>\n",
       "      <td>206.000000</td>\n",
       "      <td>0.000000</td>\n",
       "      <td>0.000000</td>\n",
       "    </tr>\n",
       "    <tr>\n",
       "      <th>50%</th>\n",
       "      <td>3.779090e+05</td>\n",
       "      <td>287.000000</td>\n",
       "      <td>1665.000000</td>\n",
       "      <td>1.000000</td>\n",
       "    </tr>\n",
       "    <tr>\n",
       "      <th>75%</th>\n",
       "      <td>4.949445e+05</td>\n",
       "      <td>2830.250000</td>\n",
       "      <td>2242.250000</td>\n",
       "      <td>1.000000</td>\n",
       "    </tr>\n",
       "    <tr>\n",
       "      <th>max</th>\n",
       "      <td>1.463378e+06</td>\n",
       "      <td>119302.000000</td>\n",
       "      <td>7461.000000</td>\n",
       "      <td>1.000000</td>\n",
       "    </tr>\n",
       "  </tbody>\n",
       "</table>\n",
       "</div>"
      ],
      "text/plain": [
       "       average_price    houses_sold  no_of_crimes  borough_flag\n",
       "count   4.320000e+03    4320.000000   4320.000000   4320.000000\n",
       "mean    4.132155e+05    3384.473843   1451.323148      0.733333\n",
       "std     2.192579e+05   10463.384803   1150.103480      0.442268\n",
       "min     1.120080e+05       0.000000      0.000000      0.000000\n",
       "25%     2.655842e+05     206.000000      0.000000      0.000000\n",
       "50%     3.779090e+05     287.000000   1665.000000      1.000000\n",
       "75%     4.949445e+05    2830.250000   2242.250000      1.000000\n",
       "max     1.463378e+06  119302.000000   7461.000000      1.000000"
      ]
     },
     "execution_count": 44,
     "metadata": {},
     "output_type": "execute_result"
    }
   ],
   "source": [
    "df_monthly.describe()"
   ]
  },
  {
   "cell_type": "code",
   "execution_count": 18,
   "id": "1a7671f3",
   "metadata": {},
   "outputs": [],
   "source": [
    "def show_boxplot(df, col):\n",
    "    sns.boxplot(x=df[col])\n",
    "    plt.show()"
   ]
  },
  {
   "cell_type": "code",
   "execution_count": null,
   "id": "178728a5",
   "metadata": {},
   "outputs": [
    {
     "data": {
      "image/png": "[encoded data removed]",
      "text/plain": [
       "<Figure size 640x480 with 1 Axes>"
      ]
     },
     "metadata": {},
     "output_type": "display_data"
    }
   ],
   "source": [
    "show_boxplot(df_monthly, 'average_price')"
   ]
  },
  {
   "cell_type": "code",
   "execution_count": null,
   "id": "e7623e21",
   "metadata": {},
   "outputs": [
    {
     "data": {
      "image/png": "[encoded data removed]",
      "text/plain": [
       "<Figure size 640x480 with 1 Axes>"
      ]
     },
     "metadata": {},
     "output_type": "display_data"
    }
   ],
   "source": [
    "show_boxplot(df_monthly, 'houses_sold')"
   ]
  },
  {
   "cell_type": "code",
   "execution_count": null,
   "id": "3c5f4ad8",
   "metadata": {},
   "outputs": [],
   "source": [
    "plt.show()"
   ]
  },
  {
   "cell_type": "code",
   "execution_count": 19,
   "id": "f54a42b1",
   "metadata": {},
   "outputs": [
    {
     "data": {
      "image/png": "[encoded data removed]",
      "text/plain": [
       "<Figure size 640x480 with 1 Axes>"
      ]
     },
     "metadata": {},
     "output_type": "display_data"
    }
   ],
   "source": [
    "show_boxplot(df_monthly, 'no_of_crimes')"
   ]
  },
  {
   "cell_type": "code",
   "execution_count": 31,
   "id": "f099820e",
   "metadata": {},
   "outputs": [
    {
     "data": {
      "text/plain": [
       "<seaborn.axisgrid.FacetGrid at 0x7f9d2cf1bb80>"
      ]
     },
     "execution_count": 31,
     "metadata": {},
     "output_type": "execute_result"
    },
    {
     "data": {
      "image/png": "[encoded data removed]",
      "text/plain": [
       "<Figure size 500x500 with 1 Axes>"
      ]
     },
     "metadata": {},
     "output_type": "display_data"
    }
   ],
   "source": [
    "sns.displot(df_monthly['borough_flag'])"
   ]
  },
  {
   "cell_type": "code",
   "execution_count": 34,
   "id": "f34f2e56",
   "metadata": {},
   "outputs": [
    {
     "data": {
      "text/plain": [
       "1    3168\n",
       "0    1152\n",
       "Name: borough_flag, dtype: int64"
      ]
     },
     "execution_count": 34,
     "metadata": {},
     "output_type": "execute_result"
    }
   ],
   "source": [
    "df_monthly['borough_flag'].value_counts()"
   ]
  }
 ],
 "metadata": {
  "kernelspec": {
   "display_name": "Python 3 (ipykernel)",
   "language": "python",
   "name": "python3"
  },
  "language_info": {
   "codemirror_mode": {
    "name": "ipython",
    "version": 3
   },
   "file_extension": ".py",
   "mimetype": "text/x-python",
   "name": "python",
   "nbconvert_exporter": "python",
   "pygments_lexer": "ipython3",
   "version": "3.9.13"
  }
 },
 "nbformat": 4,
 "nbformat_minor": 5
}
