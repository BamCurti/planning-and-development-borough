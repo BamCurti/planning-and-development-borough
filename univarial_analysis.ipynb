{
 "cells": [
  {
   "attachments": {},
   "cell_type": "markdown",
   "metadata": {},
   "source": [
    "# Data Analysis: Planning and development borough"
   ]
  },
  {
   "attachments": {},
   "cell_type": "markdown",
   "metadata": {},
   "source": [
    "## Data Preprocessing"
   ]
  },
  {
   "cell_type": "code",
   "execution_count": 3,
   "metadata": {},
   "outputs": [],
   "source": [
    "import pandas as pd"
   ]
  },
  {
   "attachments": {},
   "cell_type": "markdown",
   "metadata": {},
   "source": [
    "### Dataframe 1: Housing in London Monthly"
   ]
  },
  {
   "cell_type": "code",
   "execution_count": 4,
   "metadata": {},
   "outputs": [],
   "source": [
    "df_monthly = pd.read_csv(\"./data/housing_in_london_monthly_variables_cleaned.csv\")"
   ]
  },
  {
   "cell_type": "code",
   "execution_count": 5,
   "metadata": {},
   "outputs": [
    {
     "name": "stdout",
     "output_type": "stream",
     "text": [
      "<class 'pandas.core.frame.DataFrame'>\n",
      "RangeIndex: 4320 entries, 0 to 4319\n",
      "Data columns (total 7 columns):\n",
      " #   Column         Non-Null Count  Dtype  \n",
      "---  ------         --------------  -----  \n",
      " 0   date           4320 non-null   object \n",
      " 1   area           4320 non-null   object \n",
      " 2   average_price  4320 non-null   int64  \n",
      " 3   code           4320 non-null   object \n",
      " 4   houses_sold    4275 non-null   float64\n",
      " 5   no_of_crimes   3072 non-null   float64\n",
      " 6   borough_flag   4320 non-null   int64  \n",
      "dtypes: float64(2), int64(2), object(3)\n",
      "memory usage: 236.4+ KB\n"
     ]
    }
   ],
   "source": [
    "df_monthly.info()"
   ]
  },
  {
   "cell_type": "code",
   "execution_count": 6,
   "metadata": {},
   "outputs": [],
   "source": [
    "df_monthly[\"date\"] = pd.to_datetime(df_monthly.date)"
   ]
  },
  {
   "cell_type": "code",
   "execution_count": 7,
   "metadata": {},
   "outputs": [],
   "source": [
    "df_monthly[\"area\"] = df_monthly.area.astype(\"category\")"
   ]
  },
  {
   "cell_type": "code",
   "execution_count": 8,
   "metadata": {},
   "outputs": [],
   "source": [
    "df_monthly[\"code\"] = df_monthly.code.astype(\"category\")"
   ]
  },
  {
   "cell_type": "code",
   "execution_count": 9,
   "metadata": {},
   "outputs": [
    {
     "name": "stdout",
     "output_type": "stream",
     "text": [
      "<class 'pandas.core.frame.DataFrame'>\n",
      "RangeIndex: 4320 entries, 0 to 4319\n",
      "Data columns (total 7 columns):\n",
      " #   Column         Non-Null Count  Dtype         \n",
      "---  ------         --------------  -----         \n",
      " 0   date           4320 non-null   datetime64[ns]\n",
      " 1   area           4320 non-null   category      \n",
      " 2   average_price  4320 non-null   int64         \n",
      " 3   code           4320 non-null   category      \n",
      " 4   houses_sold    4275 non-null   float64       \n",
      " 5   no_of_crimes   3072 non-null   float64       \n",
      " 6   borough_flag   4320 non-null   int64         \n",
      "dtypes: category(2), datetime64[ns](1), float64(2), int64(2)\n",
      "memory usage: 180.1 KB\n"
     ]
    }
   ],
   "source": [
    "df_monthly.info()"
   ]
  },
  {
   "attachments": {},
   "cell_type": "markdown",
   "metadata": {},
   "source": [
    "### Dataframe 2: Housing in London Yearly"
   ]
  },
  {
   "cell_type": "code",
   "execution_count": 10,
   "metadata": {},
   "outputs": [],
   "source": [
    "df_yearly = pd.read_csv(\"./data/housing_in_london_yearly_variables_cleaned.csv\")"
   ]
  },
  {
   "cell_type": "code",
   "execution_count": 11,
   "metadata": {},
   "outputs": [
    {
     "name": "stdout",
     "output_type": "stream",
     "text": [
      "<class 'pandas.core.frame.DataFrame'>\n",
      "RangeIndex: 408 entries, 0 to 407\n",
      "Data columns (total 12 columns):\n",
      " #   Column             Non-Null Count  Dtype  \n",
      "---  ------             --------------  -----  \n",
      " 0   code               408 non-null    object \n",
      " 1   area               408 non-null    object \n",
      " 2   date               408 non-null    object \n",
      " 3   median_salary      400 non-null    float64\n",
      " 4   life_satisfaction  308 non-null    float64\n",
      " 5   mean_salary        405 non-null    float64\n",
      " 6   recycling_pct      301 non-null    float64\n",
      " 7   population_size    355 non-null    float64\n",
      " 8   number_of_jobs     343 non-null    float64\n",
      " 9   area_size          259 non-null    float64\n",
      " 10  no_of_houses       259 non-null    float64\n",
      " 11  borough_flag       408 non-null    int64  \n",
      "dtypes: float64(8), int64(1), object(3)\n",
      "memory usage: 38.4+ KB\n"
     ]
    }
   ],
   "source": [
    "df_yearly.info()"
   ]
  },
  {
   "cell_type": "code",
   "execution_count": 12,
   "metadata": {},
   "outputs": [],
   "source": [
    "df_yearly['date'] = pd.to_datetime(df_yearly.date)"
   ]
  },
  {
   "cell_type": "code",
   "execution_count": 13,
   "metadata": {},
   "outputs": [],
   "source": [
    "df_yearly['area'] = df_yearly.area.astype('category')"
   ]
  },
  {
   "cell_type": "code",
   "execution_count": 14,
   "metadata": {},
   "outputs": [],
   "source": [
    "df_yearly['code'] = df_yearly.code.astype('category')"
   ]
  },
  {
   "cell_type": "code",
   "execution_count": 15,
   "metadata": {},
   "outputs": [
    {
     "name": "stdout",
     "output_type": "stream",
     "text": [
      "<class 'pandas.core.frame.DataFrame'>\n",
      "RangeIndex: 408 entries, 0 to 407\n",
      "Data columns (total 12 columns):\n",
      " #   Column             Non-Null Count  Dtype         \n",
      "---  ------             --------------  -----         \n",
      " 0   code               408 non-null    category      \n",
      " 1   area               408 non-null    category      \n",
      " 2   date               408 non-null    datetime64[ns]\n",
      " 3   median_salary      400 non-null    float64       \n",
      " 4   life_satisfaction  308 non-null    float64       \n",
      " 5   mean_salary        405 non-null    float64       \n",
      " 6   recycling_pct      301 non-null    float64       \n",
      " 7   population_size    355 non-null    float64       \n",
      " 8   number_of_jobs     343 non-null    float64       \n",
      " 9   area_size          259 non-null    float64       \n",
      " 10  no_of_houses       259 non-null    float64       \n",
      " 11  borough_flag       408 non-null    int64         \n",
      "dtypes: category(2), datetime64[ns](1), float64(8), int64(1)\n",
      "memory usage: 37.7 KB\n"
     ]
    }
   ],
   "source": [
    "df_yearly.info()"
   ]
  },
  {
   "attachments": {},
   "cell_type": "markdown",
   "metadata": {},
   "source": [
    "### Dataframe 3: Planning and development control"
   ]
  },
  {
   "cell_type": "code",
   "execution_count": 35,
   "metadata": {},
   "outputs": [],
   "source": [
    "df_planning = pd.read_csv('./data/planning-and-development-control-statistics 2012-19_cleaned.csv')"
   ]
  },
  {
   "cell_type": "code",
   "execution_count": 36,
   "metadata": {},
   "outputs": [
    {
     "name": "stdout",
     "output_type": "stream",
     "text": [
      "<class 'pandas.core.frame.DataFrame'>\n",
      "RangeIndex: 280 entries, 0 to 279\n",
      "Data columns (total 23 columns):\n",
      " #   Column                                 Non-Null Count  Dtype  \n",
      "---  ------                                 --------------  -----  \n",
      " 0   code                                   264 non-null    object \n",
      " 1   planning_authority                     280 non-null    object \n",
      " 2   dwellings                              280 non-null    int64  \n",
      " 3   light_industry                         280 non-null    int64  \n",
      " 4   general_industry                       280 non-null    int64  \n",
      " 5   retail_and_service                     280 non-null    int64  \n",
      " 6   traveller_pitches                      280 non-null    int64  \n",
      " 7   other_developments                     280 non-null    int64  \n",
      " 8   change_of_use                          280 non-null    int64  \n",
      " 9   householder_developments               280 non-null    int64  \n",
      " 10  advertisements                         280 non-null    int64  \n",
      " 11  building_to_alter                      280 non-null    int64  \n",
      " 12  building_to_demolish                   280 non-null    int64  \n",
      " 13  conservation_area_consents             280 non-null    int64  \n",
      " 14  total                                  280 non-null    int64  \n",
      " 15  enforcement_notices_issued             276 non-null    float64\n",
      " 16  stop_notices_issued                    276 non-null    float64\n",
      " 17  temp_stop_notices_issued               276 non-null    float64\n",
      " 18  condition_notices_served               276 non-null    float64\n",
      " 19  planning_contravention_notices_served  276 non-null    float64\n",
      " 20  granted_injunctions_by_court           276 non-null    float64\n",
      " 21  refused_injunctions_by_court           276 non-null    float64\n",
      " 22  year                                   280 non-null    int64  \n",
      "dtypes: float64(7), int64(14), object(2)\n",
      "memory usage: 50.4+ KB\n"
     ]
    }
   ],
   "source": [
    "df_planning.info()"
   ]
  },
  {
   "cell_type": "code",
   "execution_count": 37,
   "metadata": {},
   "outputs": [],
   "source": [
    "df_planning['code'] = df_planning.code.astype(\"category\")"
   ]
  },
  {
   "cell_type": "code",
   "execution_count": 38,
   "metadata": {},
   "outputs": [],
   "source": [
    "df_planning['planning_authority'] = df_planning.planning_authority.astype('category')"
   ]
  },
  {
   "cell_type": "code",
   "execution_count": 39,
   "metadata": {},
   "outputs": [
    {
     "name": "stdout",
     "output_type": "stream",
     "text": [
      "<class 'pandas.core.frame.DataFrame'>\n",
      "RangeIndex: 280 entries, 0 to 279\n",
      "Data columns (total 23 columns):\n",
      " #   Column                                 Non-Null Count  Dtype   \n",
      "---  ------                                 --------------  -----   \n",
      " 0   code                                   264 non-null    category\n",
      " 1   planning_authority                     280 non-null    category\n",
      " 2   dwellings                              280 non-null    int64   \n",
      " 3   light_industry                         280 non-null    int64   \n",
      " 4   general_industry                       280 non-null    int64   \n",
      " 5   retail_and_service                     280 non-null    int64   \n",
      " 6   traveller_pitches                      280 non-null    int64   \n",
      " 7   other_developments                     280 non-null    int64   \n",
      " 8   change_of_use                          280 non-null    int64   \n",
      " 9   householder_developments               280 non-null    int64   \n",
      " 10  advertisements                         280 non-null    int64   \n",
      " 11  building_to_alter                      280 non-null    int64   \n",
      " 12  building_to_demolish                   280 non-null    int64   \n",
      " 13  conservation_area_consents             280 non-null    int64   \n",
      " 14  total                                  280 non-null    int64   \n",
      " 15  enforcement_notices_issued             276 non-null    float64 \n",
      " 16  stop_notices_issued                    276 non-null    float64 \n",
      " 17  temp_stop_notices_issued               276 non-null    float64 \n",
      " 18  condition_notices_served               276 non-null    float64 \n",
      " 19  planning_contravention_notices_served  276 non-null    float64 \n",
      " 20  granted_injunctions_by_court           276 non-null    float64 \n",
      " 21  refused_injunctions_by_court           276 non-null    float64 \n",
      " 22  year                                   280 non-null    int64   \n",
      "dtypes: category(2), float64(7), int64(14)\n",
      "memory usage: 49.2 KB\n"
     ]
    }
   ],
   "source": [
    "df_planning.info()"
   ]
  }
 ],
 "metadata": {
  "kernelspec": {
   "display_name": "base",
   "language": "python",
   "name": "python3"
  },
  "language_info": {
   "codemirror_mode": {
    "name": "ipython",
    "version": 3
   },
   "file_extension": ".py",
   "mimetype": "text/x-python",
   "name": "python",
   "nbconvert_exporter": "python",
   "pygments_lexer": "ipython3",
   "version": "3.9.13"
  },
  "orig_nbformat": 4
 },
 "nbformat": 4,
 "nbformat_minor": 2
}
